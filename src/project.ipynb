{
 "cells": [
  {
   "cell_type": "code",
   "execution_count": null,
   "id": "685a490a",
   "metadata": {},
   "outputs": [
    {
     "name": "stdout",
     "output_type": "stream",
     "text": [
      "✅ Saved to ../data/unvotes.csv\n",
      "✅ Saved to ../data/roll_calls.csv\n",
      "✅ Saved to ../data/issues.csv\n"
     ]
    }
   ],
   "source": [
    "import os\n",
    "from urllib.request import urlopen\n",
    "import ssl, certifi\n",
    "import pandas as pd\n",
    "\n",
    "os.makedirs(\"../data\", exist_ok=True)\n",
    "\n",
    "ctx = ssl.create_default_context(cafile=certifi.where())\n",
    "\n",
    "urls = {\n",
    "    \"unvotes\":    \"https://raw.githubusercontent.com/rfordatascience/tidytuesday/main/data/2021/2021-03-23/unvotes.csv\",\n",
    "    \"roll_calls\": \"https://raw.githubusercontent.com/rfordatascience/tidytuesday/main/data/2021/2021-03-23/roll_calls.csv\",\n",
    "    \"issues\":     \"https://raw.githubusercontent.com/rfordatascience/tidytuesday/main/data/2021/2021-03-23/issues.csv\",\n",
    "}\n",
    "\n",
    "for name, url in urls.items():\n",
    "    with urlopen(url, context=ctx) as f:\n",
    "        df = pd.read_csv(f)\n",
    "    out_path = f\"../data/{name}.csv\"\n",
    "    df.to_csv(out_path, index=False)\n",
    "    print(f\"✅ Saved to {out_path}\")"
   ]
  },
  {
   "cell_type": "code",
   "execution_count": 10,
   "id": "527a965f",
   "metadata": {},
   "outputs": [
    {
     "name": "stdout",
     "output_type": "stream",
     "text": [
      "   rcid             country country_code vote\n",
      "0     3       United States           US  yes\n",
      "1     3              Canada           CA   no\n",
      "2     3                Cuba           CU  yes\n",
      "3     3               Haiti           HT  yes\n",
      "4     3  Dominican Republic           DO  yes\n",
      "   rcid  session  importantvote        date    unres  amend  para  \\\n",
      "0     3        1            0.0  1946-01-01   R/1/66    1.0   0.0   \n",
      "1     4        1            0.0  1946-01-02   R/1/79    0.0   0.0   \n",
      "2     5        1            0.0  1946-01-04   R/1/98    0.0   0.0   \n",
      "3     6        1            0.0  1946-01-04  R/1/107    0.0   0.0   \n",
      "4     7        1            0.0  1946-01-02  R/1/295    1.0   0.0   \n",
      "\n",
      "                            short  \\\n",
      "0  AMENDMENTS, RULES OF PROCEDURE   \n",
      "1      SECURITY COUNCIL ELECTIONS   \n",
      "2                VOTING PROCEDURE   \n",
      "3     DECLARATION OF HUMAN RIGHTS   \n",
      "4      GENERAL ASSEMBLY ELECTIONS   \n",
      "\n",
      "                                               descr  \n",
      "0  TO ADOPT A CUBAN AMENDMENT TO THE UK PROPOSAL ...  \n",
      "1  TO ADOPT A USSR PROPOSAL ADJOURNING DEBATE ON ...  \n",
      "2  TO ADOPT THE KOREAN PROPOSAL THAT INVALID BALL...  \n",
      "3  TO ADOPT A CUBAN PROPOSAL (A/3-C) THAT AN ITEM...  \n",
      "4  TO ADOPT A 6TH COMMITTEE AMENDMENT (A/14) TO T...  \n",
      "   rcid short_name                 issue\n",
      "0    77         me  Palestinian conflict\n",
      "1  9001         me  Palestinian conflict\n",
      "2  9002         me  Palestinian conflict\n",
      "3  9003         me  Palestinian conflict\n",
      "4  9004         me  Palestinian conflict\n"
     ]
    }
   ],
   "source": [
    "unvotes    = pd.read_csv('../data/unvotes.csv')\n",
    "roll_calls = pd.read_csv('../data/roll_calls.csv')\n",
    "issues = pd.read_csv('../data/issues.csv')\n",
    "\n",
    "print(unvotes.head())\n",
    "print(roll_calls.head())\n",
    "print(issues.head())"
   ]
  },
  {
   "cell_type": "markdown",
   "id": "c1bb310c",
   "metadata": {},
   "source": [
    "## Importing libraries"
   ]
  },
  {
   "cell_type": "code",
   "execution_count": null,
   "id": "5482ae99",
   "metadata": {},
   "outputs": [
    {
     "name": "stderr",
     "output_type": "stream",
     "text": [
      "/Users/yjsoo/Desktop/leigaga/.venv/lib/python3.13/site-packages/sklearn/linear_model/_logistic.py:1272: FutureWarning: 'multi_class' was deprecated in version 1.5 and will be removed in 1.8. From then on, it will always use 'multinomial'. Leave it to its default value to avoid this warning.\n",
      "  warnings.warn(\n"
     ]
    },
    {
     "name": "stdout",
     "output_type": "stream",
     "text": [
      "              precision    recall  f1-score   support\n",
      "\n",
      "     abstain       0.42      0.00      0.01     28618\n",
      "          no       0.47      0.07      0.13     16175\n",
      "         yes       0.81      1.00      0.89    179874\n",
      "\n",
      "    accuracy                           0.80    224667\n",
      "   macro avg       0.56      0.36      0.34    224667\n",
      "weighted avg       0.73      0.80      0.72    224667\n",
      "\n"
     ]
    }
   ],
   "source": [
    "import pandas as pd\n",
    "from sklearn.model_selection import train_test_split\n",
    "from sklearn.preprocessing import OneHotEncoder\n",
    "from sklearn.compose import ColumnTransformer\n",
    "from sklearn.linear_model import LogisticRegression\n",
    "from sklearn.pipeline import Pipeline\n",
    "from sklearn.metrics import classification_report\n",
    "\n",
    "unvotes    = pd.read_csv('../data/unvotes.csv')\n",
    "roll_calls = pd.read_csv('../data/roll_calls.csv')\n",
    "issues = pd.read_csv('../data/issues.csv')\n",
    "\n",
    "merged = unvotes.merge(roll_calls, on='rcid', how='left').merge(issues, on='rcid', how='left')\n",
    "\n",
    "#group based on region \n",
    "region_map = {\n",
    "    'United States': 'Americas', 'France': 'Europe', 'China': 'Asia',\n",
    "    'Nigeria': 'Africa', 'Australia': 'Oceania'\n",
    "}\n",
    "merged['region'] = merged['country'].map(region_map)\n",
    "\n",
    "X = merged[['issue', 'session', 'region']].fillna('Unknown')\n",
    "y = merged['vote']\n",
    "\n",
    "preprocessor = ColumnTransformer([('cat', OneHotEncoder(drop='first'), ['issue', 'session', 'region'])])\n",
    "model = Pipeline([\n",
    "    ('preprocessor', preprocessor),\n",
    "    ('classifier', LogisticRegression(max_iter=500, multi_class='multinomial'))\n",
    "])\n",
    "X_train, X_test, y_train, y_test = train_test_split(X, y, test_size=0.2, random_state=42)\n",
    "model.fit(X_train, y_train)\n",
    "\n",
    "y_pred = model.predict(X_test)\n",
    "print(classification_report(y_test, y_pred))\n"
   ]
  }
 ],
 "metadata": {
  "kernelspec": {
   "display_name": ".venv",
   "language": "python",
   "name": "python3"
  },
  "language_info": {
   "codemirror_mode": {
    "name": "ipython",
    "version": 3
   },
   "file_extension": ".py",
   "mimetype": "text/x-python",
   "name": "python",
   "nbconvert_exporter": "python",
   "pygments_lexer": "ipython3",
   "version": "3.13.7"
  }
 },
 "nbformat": 4,
 "nbformat_minor": 5
}
