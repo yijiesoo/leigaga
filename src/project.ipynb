{
 "cells": [
  {
   "cell_type": "code",
   "execution_count": null,
   "id": "685a490a",
   "metadata": {},
   "outputs": [],
   "source": [
    "import os\n",
    "from urllib.request import urlopen\n",
    "import ssl, certifi\n",
    "import pandas as pd\n",
    "\n",
    "# Ensure ../data exists (run this from src/)\n",
    "os.makedirs(\"../data\", exist_ok=True)\n",
    "\n",
    "# Reusable SSL context (same as your olympics example)\n",
    "ctx = ssl.create_default_context(cafile=certifi.where())\n",
    "\n",
    "urls = {\n",
    "    \"unvotes\":    \"https://raw.githubusercontent.com/rfordatascience/tidytuesday/main/data/2021/2021-03-23/unvotes.csv\",\n",
    "    \"roll_calls\": \"https://raw.githubusercontent.com/rfordatascience/tidytuesday/main/data/2021/2021-03-23/roll_calls.csv\",\n",
    "    \"issues\":     \"https://raw.githubusercontent.com/rfordatascience/tidytuesday/main/data/2021/2021-03-23/issues.csv\",\n",
    "}\n",
    "\n",
    "for name, url in urls.items():\n",
    "    with urlopen(url, context=ctx) as f:\n",
    "        df = pd.read_csv(f)\n",
    "    out_path = f\"../data/{name}.csv\"\n",
    "    df.to_csv(out_path, index=False)\n",
    "    print(f\"✅ Saved to {out_path}\")"
   ]
  },
  {
   "cell_type": "code",
   "execution_count": null,
   "id": "527a965f",
   "metadata": {},
   "outputs": [],
   "source": [
    "unvotes    = pd.read_csv('../data/unvotes.csv')\n",
    "roll_calls = pd.read_csv('../data/roll_calls.csv')\n",
    "issues = pd.read_csv('../data/issues.csv')\n",
    "\n",
    "print(unvotes.head())\n",
    "print(roll_calls.head())\n",
    "print(issues.head())"
   ]
  }
 ],
 "metadata": {
  "kernelspec": {
   "display_name": "Python 3",
   "language": "python",
   "name": "python3"
  },
  "language_info": {
   "codemirror_mode": {
    "name": "ipython",
    "version": 3
   },
   "file_extension": ".py",
   "mimetype": "text/x-python",
   "name": "python",
   "nbconvert_exporter": "python",
   "pygments_lexer": "ipython3",
   "version": "3.13.7"
  }
 },
 "nbformat": 4,
 "nbformat_minor": 5
}
